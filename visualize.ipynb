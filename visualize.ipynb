{
 "cells": [
  {
   "cell_type": "code",
   "execution_count": 2,
   "metadata": {},
   "outputs": [],
   "source": [
    "import os\n",
    "import json\n",
    "import numpy as np\n",
    "import pandas as pd\n",
    "\n",
    "import plotly.express as px\n",
    "import plotly.graph_objects as go\n",
    "from plotly.subplots import make_subplots"
   ]
  },
  {
   "cell_type": "code",
   "execution_count": 3,
   "metadata": {},
   "outputs": [],
   "source": [
    "def get_log(target, count):\n",
    "    file_path = f\"./model/{target}/{count}/chech_point/checkpoint-7500/trainer_state.json\"\n",
    "    with open(file_path, 'r') as file:\n",
    "        data = json.load(file)\n",
    "    df = pd.DataFrame(data['log_history'])\n",
    "    print(target)\n",
    "    return df"
   ]
  },
  {
   "cell_type": "code",
   "execution_count": 8,
   "metadata": {},
   "outputs": [
    {
     "name": "stdout",
     "output_type": "stream",
     "text": [
      "guide\n",
      "light\n",
      "interior\n",
      "story\n",
      "probability\n",
      "creativity\n",
      "production\n",
      "activity\n",
      "scale\n",
      "fear\n",
      "device\n",
      "fun\n",
      "service\n"
     ]
    },
    {
     "data": {
      "application/vnd.plotly.v1+json": {
       "config": {
        "plotlyServerURL": "https://plot.ly"
       },
       "data": [
        {
         "line": {
          "width": 1.5
         },
         "mode": "lines",
         "name": "guide",
         "type": "scatter",
         "x": [
          1.99,
          3.98,
          5.98,
          7.97,
          9.96,
          11.95,
          13.94,
          15.94,
          17.93,
          19.92,
          21.91,
          23.9,
          25.9,
          27.89,
          29.88
         ],
         "y": [
          0.2236,
          0.1178,
          0.1052,
          0.0919,
          0.0722,
          0.0594,
          0.0472,
          0.0458,
          0.0447,
          0.0385,
          0.0352,
          0.0318,
          0.029,
          0.0275,
          0.0258
         ]
        },
        {
         "line": {
          "width": 1.5
         },
         "mode": "lines",
         "name": "light",
         "type": "scatter",
         "x": [
          1.99,
          3.98,
          5.98,
          7.97,
          9.96,
          11.95,
          13.94,
          15.94,
          17.93,
          19.92,
          21.91,
          23.9,
          25.9,
          27.89,
          29.88
         ],
         "y": [
          0.0765,
          0.0607,
          0.0507,
          0.0515,
          0.0411,
          0.0392,
          0.035,
          0.0353,
          0.0325,
          0.0291,
          0.0236,
          0.0226,
          0.0231,
          0.0211,
          0.0181
         ]
        },
        {
         "line": {
          "width": 1.5
         },
         "mode": "lines",
         "name": "interior",
         "type": "scatter",
         "x": [
          1.99,
          3.98,
          5.98,
          7.97,
          9.96,
          11.95,
          13.94,
          15.94,
          17.93,
          19.92,
          21.91,
          23.9,
          25.9,
          27.89,
          29.88
         ],
         "y": [
          0.1276,
          0.0735,
          0.0684,
          0.0661,
          0.062,
          0.058,
          0.0525,
          0.0521,
          0.0459,
          0.043,
          0.0371,
          0.0371,
          0.035,
          0.0306,
          0.0327
         ]
        },
        {
         "line": {
          "width": 1.5
         },
         "mode": "lines",
         "name": "story",
         "type": "scatter",
         "x": [
          1.99,
          3.98,
          5.98,
          7.97,
          9.96,
          11.95,
          13.94,
          15.94,
          17.93,
          19.92,
          21.91,
          23.9,
          25.9,
          27.89,
          29.88
         ],
         "y": [
          0.1531,
          0.1215,
          0.1104,
          0.1063,
          0.0992,
          0.0905,
          0.0804,
          0.0722,
          0.0619,
          0.0594,
          0.0561,
          0.0482,
          0.0486,
          0.0447,
          0.0431
         ]
        },
        {
         "line": {
          "width": 1.5
         },
         "mode": "lines",
         "name": "probability",
         "type": "scatter",
         "x": [
          1.99,
          3.98,
          5.98,
          7.97,
          9.96,
          11.95,
          13.94,
          15.94,
          17.93,
          19.92,
          21.91,
          23.9,
          25.9,
          27.89,
          29.88
         ],
         "y": [
          0.1263,
          0.1216,
          0.1188,
          0.1168,
          0.1108,
          0.0987,
          0.0943,
          0.0786,
          0.073,
          0.0656,
          0.0583,
          0.0572,
          0.0545,
          0.0477,
          0.0499
         ]
        },
        {
         "line": {
          "width": 1.5
         },
         "mode": "lines",
         "name": "creativity",
         "type": "scatter",
         "x": [
          1.99,
          3.98,
          5.98,
          7.97,
          9.96,
          11.95,
          13.94,
          15.94,
          17.93,
          19.92,
          21.91,
          23.9,
          25.9,
          27.89,
          29.88
         ],
         "y": [
          0.1509,
          0.1423,
          0.1036,
          0.073,
          0.0604,
          0.0506,
          0.0449,
          0.0397,
          0.0356,
          0.0346,
          0.0298,
          0.0266,
          0.0244,
          0.0236,
          0.0249
         ]
        },
        {
         "line": {
          "width": 1.5
         },
         "mode": "lines",
         "name": "production",
         "type": "scatter",
         "x": [
          1.99,
          3.98,
          5.98,
          7.97,
          9.96,
          11.95,
          13.94,
          15.94,
          17.93,
          19.92,
          21.91,
          23.9,
          25.9,
          27.89,
          29.88
         ],
         "y": [
          0.1735,
          0.1223,
          0.1076,
          0.0871,
          0.078,
          0.0667,
          0.0671,
          0.0566,
          0.051,
          0.0441,
          0.0393,
          0.0394,
          0.0312,
          0.0308,
          0.0289
         ]
        },
        {
         "line": {
          "width": 1.5
         },
         "mode": "lines",
         "name": "activity",
         "type": "scatter",
         "x": [
          1.99,
          3.98,
          5.98,
          7.97,
          9.96,
          11.95,
          13.94,
          15.94,
          17.93,
          19.92,
          21.91,
          23.9,
          25.9,
          27.89,
          29.88
         ],
         "y": [
          0.0989,
          0.0549,
          0.0545,
          0.0455,
          0.038,
          0.0309,
          0.0236,
          0.0228,
          0.0197,
          0.0186,
          0.0157,
          0.0142,
          0.0145,
          0.0129,
          0.0129
         ]
        },
        {
         "line": {
          "width": 1.5
         },
         "mode": "lines",
         "name": "scale",
         "type": "scatter",
         "x": [
          1.99,
          3.98,
          5.98,
          7.97,
          9.96,
          11.95,
          13.94,
          15.94,
          17.93,
          19.92,
          21.91,
          23.9,
          25.9,
          27.89,
          29.88
         ],
         "y": [
          0.135,
          0.0805,
          0.067,
          0.055,
          0.0426,
          0.0396,
          0.0377,
          0.0296,
          0.0256,
          0.0226,
          0.0204,
          0.0185,
          0.0212,
          0.014,
          0.0168
         ]
        },
        {
         "line": {
          "width": 1.5
         },
         "mode": "lines",
         "name": "fear",
         "type": "scatter",
         "x": [
          1.99,
          3.98,
          5.98,
          7.97,
          9.96,
          11.95,
          13.94,
          15.94,
          17.93,
          19.92,
          21.91,
          23.9,
          25.9,
          27.89,
          29.88
         ],
         "y": [
          0.2032,
          0.1923,
          0.1703,
          0.1241,
          0.1134,
          0.1076,
          0.1061,
          0.1028,
          0.0916,
          0.0817,
          0.0682,
          0.0664,
          0.0538,
          0.0525,
          0.0466
         ]
        },
        {
         "line": {
          "width": 1.5
         },
         "mode": "lines",
         "name": "device",
         "type": "scatter",
         "x": [
          1.99,
          3.98,
          5.98,
          7.97,
          9.96,
          11.95,
          13.94,
          15.94,
          17.93,
          19.92,
          21.91,
          23.9,
          25.9,
          27.89,
          29.88
         ],
         "y": [
          0.2148,
          0.1243,
          0.0971,
          0.0828,
          0.0723,
          0.062,
          0.0567,
          0.0429,
          0.0419,
          0.0353,
          0.0282,
          0.0294,
          0.0252,
          0.0203,
          0.0206
         ]
        },
        {
         "line": {
          "width": 1.5
         },
         "mode": "lines",
         "name": "fun",
         "type": "scatter",
         "x": [
          1.99,
          3.98,
          5.98,
          7.97,
          9.96,
          11.95,
          13.94,
          15.94,
          17.93,
          19.92,
          21.91,
          23.9,
          25.9,
          27.89,
          29.88
         ],
         "y": [
          0.3699,
          0.3541,
          0.3088,
          0.237,
          0.2285,
          0.2176,
          0.2036,
          0.1914,
          0.1836,
          0.1697,
          0.1568,
          0.1465,
          0.1468,
          0.137,
          0.1355
         ]
        },
        {
         "line": {
          "width": 1.5
         },
         "mode": "lines",
         "name": "service",
         "type": "scatter",
         "x": [
          1.99,
          3.98,
          5.98,
          7.97,
          9.96,
          11.95,
          13.94,
          15.94,
          17.93,
          19.92,
          21.91,
          23.9,
          25.9,
          27.89,
          29.88
         ],
         "y": [
          0.0984,
          0.0953,
          0.0954,
          0.0952,
          0.0961,
          0.0945,
          0.0755,
          0.0586,
          0.0403,
          0.0324,
          0.0282,
          0.0228,
          0.0227,
          0.0194,
          0.0192
         ]
        }
       ],
       "layout": {
        "height": 1000,
        "template": {
         "data": {
          "bar": [
           {
            "error_x": {
             "color": "#2a3f5f"
            },
            "error_y": {
             "color": "#2a3f5f"
            },
            "marker": {
             "line": {
              "color": "#E5ECF6",
              "width": 0.5
             },
             "pattern": {
              "fillmode": "overlay",
              "size": 10,
              "solidity": 0.2
             }
            },
            "type": "bar"
           }
          ],
          "barpolar": [
           {
            "marker": {
             "line": {
              "color": "#E5ECF6",
              "width": 0.5
             },
             "pattern": {
              "fillmode": "overlay",
              "size": 10,
              "solidity": 0.2
             }
            },
            "type": "barpolar"
           }
          ],
          "carpet": [
           {
            "aaxis": {
             "endlinecolor": "#2a3f5f",
             "gridcolor": "white",
             "linecolor": "white",
             "minorgridcolor": "white",
             "startlinecolor": "#2a3f5f"
            },
            "baxis": {
             "endlinecolor": "#2a3f5f",
             "gridcolor": "white",
             "linecolor": "white",
             "minorgridcolor": "white",
             "startlinecolor": "#2a3f5f"
            },
            "type": "carpet"
           }
          ],
          "choropleth": [
           {
            "colorbar": {
             "outlinewidth": 0,
             "ticks": ""
            },
            "type": "choropleth"
           }
          ],
          "contour": [
           {
            "colorbar": {
             "outlinewidth": 0,
             "ticks": ""
            },
            "colorscale": [
             [
              0,
              "#0d0887"
             ],
             [
              0.1111111111111111,
              "#46039f"
             ],
             [
              0.2222222222222222,
              "#7201a8"
             ],
             [
              0.3333333333333333,
              "#9c179e"
             ],
             [
              0.4444444444444444,
              "#bd3786"
             ],
             [
              0.5555555555555556,
              "#d8576b"
             ],
             [
              0.6666666666666666,
              "#ed7953"
             ],
             [
              0.7777777777777778,
              "#fb9f3a"
             ],
             [
              0.8888888888888888,
              "#fdca26"
             ],
             [
              1,
              "#f0f921"
             ]
            ],
            "type": "contour"
           }
          ],
          "contourcarpet": [
           {
            "colorbar": {
             "outlinewidth": 0,
             "ticks": ""
            },
            "type": "contourcarpet"
           }
          ],
          "heatmap": [
           {
            "colorbar": {
             "outlinewidth": 0,
             "ticks": ""
            },
            "colorscale": [
             [
              0,
              "#0d0887"
             ],
             [
              0.1111111111111111,
              "#46039f"
             ],
             [
              0.2222222222222222,
              "#7201a8"
             ],
             [
              0.3333333333333333,
              "#9c179e"
             ],
             [
              0.4444444444444444,
              "#bd3786"
             ],
             [
              0.5555555555555556,
              "#d8576b"
             ],
             [
              0.6666666666666666,
              "#ed7953"
             ],
             [
              0.7777777777777778,
              "#fb9f3a"
             ],
             [
              0.8888888888888888,
              "#fdca26"
             ],
             [
              1,
              "#f0f921"
             ]
            ],
            "type": "heatmap"
           }
          ],
          "heatmapgl": [
           {
            "colorbar": {
             "outlinewidth": 0,
             "ticks": ""
            },
            "colorscale": [
             [
              0,
              "#0d0887"
             ],
             [
              0.1111111111111111,
              "#46039f"
             ],
             [
              0.2222222222222222,
              "#7201a8"
             ],
             [
              0.3333333333333333,
              "#9c179e"
             ],
             [
              0.4444444444444444,
              "#bd3786"
             ],
             [
              0.5555555555555556,
              "#d8576b"
             ],
             [
              0.6666666666666666,
              "#ed7953"
             ],
             [
              0.7777777777777778,
              "#fb9f3a"
             ],
             [
              0.8888888888888888,
              "#fdca26"
             ],
             [
              1,
              "#f0f921"
             ]
            ],
            "type": "heatmapgl"
           }
          ],
          "histogram": [
           {
            "marker": {
             "pattern": {
              "fillmode": "overlay",
              "size": 10,
              "solidity": 0.2
             }
            },
            "type": "histogram"
           }
          ],
          "histogram2d": [
           {
            "colorbar": {
             "outlinewidth": 0,
             "ticks": ""
            },
            "colorscale": [
             [
              0,
              "#0d0887"
             ],
             [
              0.1111111111111111,
              "#46039f"
             ],
             [
              0.2222222222222222,
              "#7201a8"
             ],
             [
              0.3333333333333333,
              "#9c179e"
             ],
             [
              0.4444444444444444,
              "#bd3786"
             ],
             [
              0.5555555555555556,
              "#d8576b"
             ],
             [
              0.6666666666666666,
              "#ed7953"
             ],
             [
              0.7777777777777778,
              "#fb9f3a"
             ],
             [
              0.8888888888888888,
              "#fdca26"
             ],
             [
              1,
              "#f0f921"
             ]
            ],
            "type": "histogram2d"
           }
          ],
          "histogram2dcontour": [
           {
            "colorbar": {
             "outlinewidth": 0,
             "ticks": ""
            },
            "colorscale": [
             [
              0,
              "#0d0887"
             ],
             [
              0.1111111111111111,
              "#46039f"
             ],
             [
              0.2222222222222222,
              "#7201a8"
             ],
             [
              0.3333333333333333,
              "#9c179e"
             ],
             [
              0.4444444444444444,
              "#bd3786"
             ],
             [
              0.5555555555555556,
              "#d8576b"
             ],
             [
              0.6666666666666666,
              "#ed7953"
             ],
             [
              0.7777777777777778,
              "#fb9f3a"
             ],
             [
              0.8888888888888888,
              "#fdca26"
             ],
             [
              1,
              "#f0f921"
             ]
            ],
            "type": "histogram2dcontour"
           }
          ],
          "mesh3d": [
           {
            "colorbar": {
             "outlinewidth": 0,
             "ticks": ""
            },
            "type": "mesh3d"
           }
          ],
          "parcoords": [
           {
            "line": {
             "colorbar": {
              "outlinewidth": 0,
              "ticks": ""
             }
            },
            "type": "parcoords"
           }
          ],
          "pie": [
           {
            "automargin": true,
            "type": "pie"
           }
          ],
          "scatter": [
           {
            "fillpattern": {
             "fillmode": "overlay",
             "size": 10,
             "solidity": 0.2
            },
            "type": "scatter"
           }
          ],
          "scatter3d": [
           {
            "line": {
             "colorbar": {
              "outlinewidth": 0,
              "ticks": ""
             }
            },
            "marker": {
             "colorbar": {
              "outlinewidth": 0,
              "ticks": ""
             }
            },
            "type": "scatter3d"
           }
          ],
          "scattercarpet": [
           {
            "marker": {
             "colorbar": {
              "outlinewidth": 0,
              "ticks": ""
             }
            },
            "type": "scattercarpet"
           }
          ],
          "scattergeo": [
           {
            "marker": {
             "colorbar": {
              "outlinewidth": 0,
              "ticks": ""
             }
            },
            "type": "scattergeo"
           }
          ],
          "scattergl": [
           {
            "marker": {
             "colorbar": {
              "outlinewidth": 0,
              "ticks": ""
             }
            },
            "type": "scattergl"
           }
          ],
          "scattermapbox": [
           {
            "marker": {
             "colorbar": {
              "outlinewidth": 0,
              "ticks": ""
             }
            },
            "type": "scattermapbox"
           }
          ],
          "scatterpolar": [
           {
            "marker": {
             "colorbar": {
              "outlinewidth": 0,
              "ticks": ""
             }
            },
            "type": "scatterpolar"
           }
          ],
          "scatterpolargl": [
           {
            "marker": {
             "colorbar": {
              "outlinewidth": 0,
              "ticks": ""
             }
            },
            "type": "scatterpolargl"
           }
          ],
          "scatterternary": [
           {
            "marker": {
             "colorbar": {
              "outlinewidth": 0,
              "ticks": ""
             }
            },
            "type": "scatterternary"
           }
          ],
          "surface": [
           {
            "colorbar": {
             "outlinewidth": 0,
             "ticks": ""
            },
            "colorscale": [
             [
              0,
              "#0d0887"
             ],
             [
              0.1111111111111111,
              "#46039f"
             ],
             [
              0.2222222222222222,
              "#7201a8"
             ],
             [
              0.3333333333333333,
              "#9c179e"
             ],
             [
              0.4444444444444444,
              "#bd3786"
             ],
             [
              0.5555555555555556,
              "#d8576b"
             ],
             [
              0.6666666666666666,
              "#ed7953"
             ],
             [
              0.7777777777777778,
              "#fb9f3a"
             ],
             [
              0.8888888888888888,
              "#fdca26"
             ],
             [
              1,
              "#f0f921"
             ]
            ],
            "type": "surface"
           }
          ],
          "table": [
           {
            "cells": {
             "fill": {
              "color": "#EBF0F8"
             },
             "line": {
              "color": "white"
             }
            },
            "header": {
             "fill": {
              "color": "#C8D4E3"
             },
             "line": {
              "color": "white"
             }
            },
            "type": "table"
           }
          ]
         },
         "layout": {
          "annotationdefaults": {
           "arrowcolor": "#2a3f5f",
           "arrowhead": 0,
           "arrowwidth": 1
          },
          "autotypenumbers": "strict",
          "coloraxis": {
           "colorbar": {
            "outlinewidth": 0,
            "ticks": ""
           }
          },
          "colorscale": {
           "diverging": [
            [
             0,
             "#8e0152"
            ],
            [
             0.1,
             "#c51b7d"
            ],
            [
             0.2,
             "#de77ae"
            ],
            [
             0.3,
             "#f1b6da"
            ],
            [
             0.4,
             "#fde0ef"
            ],
            [
             0.5,
             "#f7f7f7"
            ],
            [
             0.6,
             "#e6f5d0"
            ],
            [
             0.7,
             "#b8e186"
            ],
            [
             0.8,
             "#7fbc41"
            ],
            [
             0.9,
             "#4d9221"
            ],
            [
             1,
             "#276419"
            ]
           ],
           "sequential": [
            [
             0,
             "#0d0887"
            ],
            [
             0.1111111111111111,
             "#46039f"
            ],
            [
             0.2222222222222222,
             "#7201a8"
            ],
            [
             0.3333333333333333,
             "#9c179e"
            ],
            [
             0.4444444444444444,
             "#bd3786"
            ],
            [
             0.5555555555555556,
             "#d8576b"
            ],
            [
             0.6666666666666666,
             "#ed7953"
            ],
            [
             0.7777777777777778,
             "#fb9f3a"
            ],
            [
             0.8888888888888888,
             "#fdca26"
            ],
            [
             1,
             "#f0f921"
            ]
           ],
           "sequentialminus": [
            [
             0,
             "#0d0887"
            ],
            [
             0.1111111111111111,
             "#46039f"
            ],
            [
             0.2222222222222222,
             "#7201a8"
            ],
            [
             0.3333333333333333,
             "#9c179e"
            ],
            [
             0.4444444444444444,
             "#bd3786"
            ],
            [
             0.5555555555555556,
             "#d8576b"
            ],
            [
             0.6666666666666666,
             "#ed7953"
            ],
            [
             0.7777777777777778,
             "#fb9f3a"
            ],
            [
             0.8888888888888888,
             "#fdca26"
            ],
            [
             1,
             "#f0f921"
            ]
           ]
          },
          "colorway": [
           "#636efa",
           "#EF553B",
           "#00cc96",
           "#ab63fa",
           "#FFA15A",
           "#19d3f3",
           "#FF6692",
           "#B6E880",
           "#FF97FF",
           "#FECB52"
          ],
          "font": {
           "color": "#2a3f5f"
          },
          "geo": {
           "bgcolor": "white",
           "lakecolor": "white",
           "landcolor": "#E5ECF6",
           "showlakes": true,
           "showland": true,
           "subunitcolor": "white"
          },
          "hoverlabel": {
           "align": "left"
          },
          "hovermode": "closest",
          "mapbox": {
           "style": "light"
          },
          "paper_bgcolor": "white",
          "plot_bgcolor": "#E5ECF6",
          "polar": {
           "angularaxis": {
            "gridcolor": "white",
            "linecolor": "white",
            "ticks": ""
           },
           "bgcolor": "#E5ECF6",
           "radialaxis": {
            "gridcolor": "white",
            "linecolor": "white",
            "ticks": ""
           }
          },
          "scene": {
           "xaxis": {
            "backgroundcolor": "#E5ECF6",
            "gridcolor": "white",
            "gridwidth": 2,
            "linecolor": "white",
            "showbackground": true,
            "ticks": "",
            "zerolinecolor": "white"
           },
           "yaxis": {
            "backgroundcolor": "#E5ECF6",
            "gridcolor": "white",
            "gridwidth": 2,
            "linecolor": "white",
            "showbackground": true,
            "ticks": "",
            "zerolinecolor": "white"
           },
           "zaxis": {
            "backgroundcolor": "#E5ECF6",
            "gridcolor": "white",
            "gridwidth": 2,
            "linecolor": "white",
            "showbackground": true,
            "ticks": "",
            "zerolinecolor": "white"
           }
          },
          "shapedefaults": {
           "line": {
            "color": "#2a3f5f"
           }
          },
          "ternary": {
           "aaxis": {
            "gridcolor": "white",
            "linecolor": "white",
            "ticks": ""
           },
           "baxis": {
            "gridcolor": "white",
            "linecolor": "white",
            "ticks": ""
           },
           "bgcolor": "#E5ECF6",
           "caxis": {
            "gridcolor": "white",
            "linecolor": "white",
            "ticks": ""
           }
          },
          "title": {
           "x": 0.05
          },
          "xaxis": {
           "automargin": true,
           "gridcolor": "white",
           "linecolor": "white",
           "ticks": "",
           "title": {
            "standoff": 15
           },
           "zerolinecolor": "white",
           "zerolinewidth": 2
          },
          "yaxis": {
           "automargin": true,
           "gridcolor": "white",
           "linecolor": "white",
           "ticks": "",
           "title": {
            "standoff": 15
           },
           "zerolinecolor": "white",
           "zerolinewidth": 2
          }
         }
        },
        "title": {
         "text": "kiwi model loss data"
        },
        "xaxis": {
         "anchor": "y",
         "domain": [
          0,
          1
         ],
         "range": [
          1,
          30
         ]
        },
        "yaxis": {
         "anchor": "x",
         "domain": [
          0,
          1
         ]
        }
       }
      }
     },
     "metadata": {},
     "output_type": "display_data"
    }
   ],
   "source": [
    "category_names = ['guide', 'light', 'interior', 'story', 'probability', 'creativity', 'production', 'activity', 'scale', 'fear', 'device', 'fun', 'service']\n",
    "for category in category_names:\n",
    "    globals()[category] = get_log(category, '1')\n",
    "\n",
    "category_names = ['guide', 'light', 'interior', 'story', 'probability', 'creativity', 'production', 'activity', 'scale', 'fear', 'device', 'fun', 'service']\n",
    "categories = [guide, light, interior, story, probability, creativity, production, activity, scale, fear, device, fun, service]\n",
    "\n",
    "category_dic = {key:value for key, value in zip(category_names, categories)}\n",
    "\n",
    "fig = make_subplots(rows=1, cols=1, shared_xaxes=True)\n",
    "\n",
    "for key, value in category_dic.items():\n",
    "    fig.add_trace(go.Scatter(x=value[value.keys()[0]], y=value[value.keys()[2]], mode='lines', name=key, line=dict(width=1.5)))\n",
    "\n",
    "# y 축의 범위 설정\n",
    "fig.update_xaxes(range=[1, 30])  # 원하는 범위로 설정\n",
    "\n",
    "fig.update_layout(title='kiwi model loss data', height=1000)\n",
    "fig.show()"
   ]
  },
  {
   "cell_type": "code",
   "execution_count": 9,
   "metadata": {},
   "outputs": [
    {
     "name": "stdout",
     "output_type": "stream",
     "text": [
      "guide\n",
      "light\n",
      "interior\n",
      "story\n",
      "probability\n",
      "creativity\n",
      "production\n",
      "activity\n",
      "scale\n",
      "fear\n",
      "device\n",
      "fun\n",
      "service\n"
     ]
    },
    {
     "data": {
      "application/vnd.plotly.v1+json": {
       "config": {
        "plotlyServerURL": "https://plot.ly"
       },
       "data": [
        {
         "line": {
          "width": 1.5
         },
         "mode": "lines",
         "name": "guide",
         "type": "scatter",
         "x": [
          1.99,
          3.98,
          5.98,
          7.97,
          9.96,
          11.95,
          13.94,
          15.94,
          17.93,
          19.92,
          21.91,
          23.9,
          25.9,
          27.89,
          29.88
         ],
         "y": [
          0.2149,
          0.1215,
          0.1064,
          0.0852,
          0.0666,
          0.0537,
          0.0462,
          0.0411,
          0.0374,
          0.0307,
          0.0327,
          0.0274,
          0.026,
          0.0227,
          0.0219
         ]
        },
        {
         "line": {
          "width": 1.5
         },
         "mode": "lines",
         "name": "light",
         "type": "scatter",
         "x": [
          1.99,
          3.98,
          5.98,
          7.97,
          9.96,
          11.95,
          13.94,
          15.94,
          17.93,
          19.92,
          21.91,
          23.9,
          25.9,
          27.89,
          29.88
         ],
         "y": [
          0.0766,
          0.0757,
          0.0741,
          0.0758,
          0.0745,
          0.0742,
          0.0749,
          0.0754,
          0.0745,
          0.0756,
          0.0725,
          0.0732,
          0.0774,
          0.0736,
          0.0732
         ]
        },
        {
         "line": {
          "width": 1.5
         },
         "mode": "lines",
         "name": "interior",
         "type": "scatter",
         "x": [
          1.99,
          3.98,
          5.98,
          7.97,
          9.96,
          11.95,
          13.94,
          15.94,
          17.93,
          19.92,
          21.91,
          23.9,
          25.9,
          27.89,
          29.88
         ],
         "y": [
          0.1691,
          0.0788,
          0.0767,
          0.078,
          0.0758,
          0.0765,
          0.0767,
          0.0776,
          0.0723,
          0.0684,
          0.0629,
          0.0623,
          0.0612,
          0.0546,
          0.0543
         ]
        },
        {
         "line": {
          "width": 1.5
         },
         "mode": "lines",
         "name": "story",
         "type": "scatter",
         "x": [
          1.99,
          3.98,
          5.98,
          7.97,
          9.96,
          11.95,
          13.94,
          15.94,
          17.93,
          19.92,
          21.91,
          23.9,
          25.9,
          27.89,
          29.88
         ],
         "y": [
          0.1733,
          0.1243,
          0.1202,
          0.1147,
          0.1093,
          0.104,
          0.0998,
          0.0969,
          0.0952,
          0.094,
          0.0907,
          0.0877,
          0.0829,
          0.079,
          0.0769
         ]
        },
        {
         "line": {
          "width": 1.5
         },
         "mode": "lines",
         "name": "probability",
         "type": "scatter",
         "x": [
          1.99,
          3.98,
          5.98,
          7.97,
          9.96,
          11.95,
          13.94,
          15.94,
          17.93,
          19.92,
          21.91,
          23.9,
          25.9,
          27.89,
          29.88
         ],
         "y": [
          0.1255,
          0.1211,
          0.1215,
          0.1216,
          0.1213,
          0.1174,
          0.1231,
          0.1184,
          0.1201,
          0.1185,
          0.1099,
          0.1003,
          0.0909,
          0.0828,
          0.0813
         ]
        },
        {
         "line": {
          "width": 1.5
         },
         "mode": "lines",
         "name": "creativity",
         "type": "scatter",
         "x": [
          1.99,
          3.98,
          5.98,
          7.97,
          9.96,
          11.95,
          13.94,
          15.94,
          17.93,
          19.92,
          21.91,
          23.9,
          25.9,
          27.89,
          29.88
         ],
         "y": [
          0.1487,
          0.1443,
          0.1432,
          0.1386,
          0.0865,
          0.0711,
          0.0631,
          0.0614,
          0.0534,
          0.052,
          0.0472,
          0.0441,
          0.0383,
          0.0343,
          0.0363
         ]
        },
        {
         "line": {
          "width": 1.5
         },
         "mode": "lines",
         "name": "production",
         "type": "scatter",
         "x": [
          1.99,
          3.98,
          5.98,
          7.97,
          9.96,
          11.95,
          13.94,
          15.94,
          17.93,
          19.92,
          21.91,
          23.9,
          25.9,
          27.89,
          29.88
         ],
         "y": [
          0.1848,
          0.1333,
          0.1175,
          0.106,
          0.091,
          0.0812,
          0.0768,
          0.0667,
          0.0594,
          0.0593,
          0.0517,
          0.0535,
          0.054,
          0.0503,
          0.0516
         ]
        },
        {
         "line": {
          "width": 1.5
         },
         "mode": "lines",
         "name": "activity",
         "type": "scatter",
         "x": [
          1.99,
          3.98,
          5.98,
          7.97,
          9.96,
          11.95,
          13.94,
          15.94,
          17.93,
          19.92,
          21.91,
          23.9,
          25.9,
          27.89,
          29.88
         ],
         "y": [
          0.1318,
          0.1282,
          0.1289,
          0.1269,
          0.1304,
          0.1231,
          0.0805,
          0.0537,
          0.0434,
          0.0408,
          0.0398,
          0.0368,
          0.0372,
          0.0309,
          0.0342
         ]
        },
        {
         "line": {
          "width": 1.5
         },
         "mode": "lines",
         "name": "scale",
         "type": "scatter",
         "x": [
          1.99,
          3.98,
          5.98,
          7.97,
          9.96,
          11.95,
          13.94,
          15.94,
          17.93,
          19.92,
          21.91,
          23.9,
          25.9,
          27.89,
          29.88
         ],
         "y": [
          0.124,
          0.0767,
          0.0658,
          0.0597,
          0.0546,
          0.0506,
          0.052,
          0.0481,
          0.0484,
          0.0436,
          0.0384,
          0.0345,
          0.029,
          0.0268,
          0.0259
         ]
        },
        {
         "line": {
          "width": 1.5
         },
         "mode": "lines",
         "name": "fear",
         "type": "scatter",
         "x": [
          1.99,
          3.98,
          5.98,
          7.97,
          9.96,
          11.95,
          13.94,
          15.94,
          17.93,
          19.92,
          21.91,
          23.9,
          25.9,
          27.89,
          29.88
         ],
         "y": [
          0.2015,
          0.1913,
          0.1732,
          0.1429,
          0.1292,
          0.1224,
          0.1124,
          0.0972,
          0.0864,
          0.071,
          0.0615,
          0.0556,
          0.0531,
          0.051,
          0.0478
         ]
        },
        {
         "line": {
          "width": 1.5
         },
         "mode": "lines",
         "name": "device",
         "type": "scatter",
         "x": [
          1.99,
          3.98,
          5.98,
          7.97,
          9.96,
          11.95,
          13.94,
          15.94,
          17.93,
          19.92,
          21.91,
          23.9,
          25.9,
          27.89,
          29.88
         ],
         "y": [
          0.2752,
          0.2615,
          0.2606,
          0.2609,
          0.2622,
          0.2612,
          0.2599,
          0.2592,
          0.2619,
          0.2433,
          0.1448,
          0.1242,
          0.1119,
          0.1027,
          0.0977
         ]
        },
        {
         "line": {
          "width": 1.5
         },
         "mode": "lines",
         "name": "fun",
         "type": "scatter",
         "x": [
          1.99,
          3.98,
          5.98,
          7.97,
          9.96,
          11.95,
          13.94,
          15.94,
          17.93,
          19.92,
          21.91,
          23.9,
          25.9,
          27.89,
          29.88
         ],
         "y": [
          0.3527,
          0.2502,
          0.2311,
          0.2169,
          0.1981,
          0.1864,
          0.1701,
          0.1598,
          0.1511,
          0.1433,
          0.1286,
          0.1201,
          0.113,
          0.1167,
          0.1095
         ]
        },
        {
         "line": {
          "width": 1.5
         },
         "mode": "lines",
         "name": "service",
         "type": "scatter",
         "x": [
          1.99,
          3.98,
          5.98,
          7.97,
          9.96,
          11.95,
          13.94,
          15.94,
          17.93,
          19.92,
          21.91,
          23.9,
          25.9,
          27.89,
          29.88
         ],
         "y": [
          0.0986,
          0.0926,
          0.0838,
          0.0517,
          0.0359,
          0.0302,
          0.0247,
          0.0227,
          0.0186,
          0.0177,
          0.0182,
          0.0145,
          0.0153,
          0.0154,
          0.0136
         ]
        }
       ],
       "layout": {
        "height": 1000,
        "template": {
         "data": {
          "bar": [
           {
            "error_x": {
             "color": "#2a3f5f"
            },
            "error_y": {
             "color": "#2a3f5f"
            },
            "marker": {
             "line": {
              "color": "#E5ECF6",
              "width": 0.5
             },
             "pattern": {
              "fillmode": "overlay",
              "size": 10,
              "solidity": 0.2
             }
            },
            "type": "bar"
           }
          ],
          "barpolar": [
           {
            "marker": {
             "line": {
              "color": "#E5ECF6",
              "width": 0.5
             },
             "pattern": {
              "fillmode": "overlay",
              "size": 10,
              "solidity": 0.2
             }
            },
            "type": "barpolar"
           }
          ],
          "carpet": [
           {
            "aaxis": {
             "endlinecolor": "#2a3f5f",
             "gridcolor": "white",
             "linecolor": "white",
             "minorgridcolor": "white",
             "startlinecolor": "#2a3f5f"
            },
            "baxis": {
             "endlinecolor": "#2a3f5f",
             "gridcolor": "white",
             "linecolor": "white",
             "minorgridcolor": "white",
             "startlinecolor": "#2a3f5f"
            },
            "type": "carpet"
           }
          ],
          "choropleth": [
           {
            "colorbar": {
             "outlinewidth": 0,
             "ticks": ""
            },
            "type": "choropleth"
           }
          ],
          "contour": [
           {
            "colorbar": {
             "outlinewidth": 0,
             "ticks": ""
            },
            "colorscale": [
             [
              0,
              "#0d0887"
             ],
             [
              0.1111111111111111,
              "#46039f"
             ],
             [
              0.2222222222222222,
              "#7201a8"
             ],
             [
              0.3333333333333333,
              "#9c179e"
             ],
             [
              0.4444444444444444,
              "#bd3786"
             ],
             [
              0.5555555555555556,
              "#d8576b"
             ],
             [
              0.6666666666666666,
              "#ed7953"
             ],
             [
              0.7777777777777778,
              "#fb9f3a"
             ],
             [
              0.8888888888888888,
              "#fdca26"
             ],
             [
              1,
              "#f0f921"
             ]
            ],
            "type": "contour"
           }
          ],
          "contourcarpet": [
           {
            "colorbar": {
             "outlinewidth": 0,
             "ticks": ""
            },
            "type": "contourcarpet"
           }
          ],
          "heatmap": [
           {
            "colorbar": {
             "outlinewidth": 0,
             "ticks": ""
            },
            "colorscale": [
             [
              0,
              "#0d0887"
             ],
             [
              0.1111111111111111,
              "#46039f"
             ],
             [
              0.2222222222222222,
              "#7201a8"
             ],
             [
              0.3333333333333333,
              "#9c179e"
             ],
             [
              0.4444444444444444,
              "#bd3786"
             ],
             [
              0.5555555555555556,
              "#d8576b"
             ],
             [
              0.6666666666666666,
              "#ed7953"
             ],
             [
              0.7777777777777778,
              "#fb9f3a"
             ],
             [
              0.8888888888888888,
              "#fdca26"
             ],
             [
              1,
              "#f0f921"
             ]
            ],
            "type": "heatmap"
           }
          ],
          "heatmapgl": [
           {
            "colorbar": {
             "outlinewidth": 0,
             "ticks": ""
            },
            "colorscale": [
             [
              0,
              "#0d0887"
             ],
             [
              0.1111111111111111,
              "#46039f"
             ],
             [
              0.2222222222222222,
              "#7201a8"
             ],
             [
              0.3333333333333333,
              "#9c179e"
             ],
             [
              0.4444444444444444,
              "#bd3786"
             ],
             [
              0.5555555555555556,
              "#d8576b"
             ],
             [
              0.6666666666666666,
              "#ed7953"
             ],
             [
              0.7777777777777778,
              "#fb9f3a"
             ],
             [
              0.8888888888888888,
              "#fdca26"
             ],
             [
              1,
              "#f0f921"
             ]
            ],
            "type": "heatmapgl"
           }
          ],
          "histogram": [
           {
            "marker": {
             "pattern": {
              "fillmode": "overlay",
              "size": 10,
              "solidity": 0.2
             }
            },
            "type": "histogram"
           }
          ],
          "histogram2d": [
           {
            "colorbar": {
             "outlinewidth": 0,
             "ticks": ""
            },
            "colorscale": [
             [
              0,
              "#0d0887"
             ],
             [
              0.1111111111111111,
              "#46039f"
             ],
             [
              0.2222222222222222,
              "#7201a8"
             ],
             [
              0.3333333333333333,
              "#9c179e"
             ],
             [
              0.4444444444444444,
              "#bd3786"
             ],
             [
              0.5555555555555556,
              "#d8576b"
             ],
             [
              0.6666666666666666,
              "#ed7953"
             ],
             [
              0.7777777777777778,
              "#fb9f3a"
             ],
             [
              0.8888888888888888,
              "#fdca26"
             ],
             [
              1,
              "#f0f921"
             ]
            ],
            "type": "histogram2d"
           }
          ],
          "histogram2dcontour": [
           {
            "colorbar": {
             "outlinewidth": 0,
             "ticks": ""
            },
            "colorscale": [
             [
              0,
              "#0d0887"
             ],
             [
              0.1111111111111111,
              "#46039f"
             ],
             [
              0.2222222222222222,
              "#7201a8"
             ],
             [
              0.3333333333333333,
              "#9c179e"
             ],
             [
              0.4444444444444444,
              "#bd3786"
             ],
             [
              0.5555555555555556,
              "#d8576b"
             ],
             [
              0.6666666666666666,
              "#ed7953"
             ],
             [
              0.7777777777777778,
              "#fb9f3a"
             ],
             [
              0.8888888888888888,
              "#fdca26"
             ],
             [
              1,
              "#f0f921"
             ]
            ],
            "type": "histogram2dcontour"
           }
          ],
          "mesh3d": [
           {
            "colorbar": {
             "outlinewidth": 0,
             "ticks": ""
            },
            "type": "mesh3d"
           }
          ],
          "parcoords": [
           {
            "line": {
             "colorbar": {
              "outlinewidth": 0,
              "ticks": ""
             }
            },
            "type": "parcoords"
           }
          ],
          "pie": [
           {
            "automargin": true,
            "type": "pie"
           }
          ],
          "scatter": [
           {
            "fillpattern": {
             "fillmode": "overlay",
             "size": 10,
             "solidity": 0.2
            },
            "type": "scatter"
           }
          ],
          "scatter3d": [
           {
            "line": {
             "colorbar": {
              "outlinewidth": 0,
              "ticks": ""
             }
            },
            "marker": {
             "colorbar": {
              "outlinewidth": 0,
              "ticks": ""
             }
            },
            "type": "scatter3d"
           }
          ],
          "scattercarpet": [
           {
            "marker": {
             "colorbar": {
              "outlinewidth": 0,
              "ticks": ""
             }
            },
            "type": "scattercarpet"
           }
          ],
          "scattergeo": [
           {
            "marker": {
             "colorbar": {
              "outlinewidth": 0,
              "ticks": ""
             }
            },
            "type": "scattergeo"
           }
          ],
          "scattergl": [
           {
            "marker": {
             "colorbar": {
              "outlinewidth": 0,
              "ticks": ""
             }
            },
            "type": "scattergl"
           }
          ],
          "scattermapbox": [
           {
            "marker": {
             "colorbar": {
              "outlinewidth": 0,
              "ticks": ""
             }
            },
            "type": "scattermapbox"
           }
          ],
          "scatterpolar": [
           {
            "marker": {
             "colorbar": {
              "outlinewidth": 0,
              "ticks": ""
             }
            },
            "type": "scatterpolar"
           }
          ],
          "scatterpolargl": [
           {
            "marker": {
             "colorbar": {
              "outlinewidth": 0,
              "ticks": ""
             }
            },
            "type": "scatterpolargl"
           }
          ],
          "scatterternary": [
           {
            "marker": {
             "colorbar": {
              "outlinewidth": 0,
              "ticks": ""
             }
            },
            "type": "scatterternary"
           }
          ],
          "surface": [
           {
            "colorbar": {
             "outlinewidth": 0,
             "ticks": ""
            },
            "colorscale": [
             [
              0,
              "#0d0887"
             ],
             [
              0.1111111111111111,
              "#46039f"
             ],
             [
              0.2222222222222222,
              "#7201a8"
             ],
             [
              0.3333333333333333,
              "#9c179e"
             ],
             [
              0.4444444444444444,
              "#bd3786"
             ],
             [
              0.5555555555555556,
              "#d8576b"
             ],
             [
              0.6666666666666666,
              "#ed7953"
             ],
             [
              0.7777777777777778,
              "#fb9f3a"
             ],
             [
              0.8888888888888888,
              "#fdca26"
             ],
             [
              1,
              "#f0f921"
             ]
            ],
            "type": "surface"
           }
          ],
          "table": [
           {
            "cells": {
             "fill": {
              "color": "#EBF0F8"
             },
             "line": {
              "color": "white"
             }
            },
            "header": {
             "fill": {
              "color": "#C8D4E3"
             },
             "line": {
              "color": "white"
             }
            },
            "type": "table"
           }
          ]
         },
         "layout": {
          "annotationdefaults": {
           "arrowcolor": "#2a3f5f",
           "arrowhead": 0,
           "arrowwidth": 1
          },
          "autotypenumbers": "strict",
          "coloraxis": {
           "colorbar": {
            "outlinewidth": 0,
            "ticks": ""
           }
          },
          "colorscale": {
           "diverging": [
            [
             0,
             "#8e0152"
            ],
            [
             0.1,
             "#c51b7d"
            ],
            [
             0.2,
             "#de77ae"
            ],
            [
             0.3,
             "#f1b6da"
            ],
            [
             0.4,
             "#fde0ef"
            ],
            [
             0.5,
             "#f7f7f7"
            ],
            [
             0.6,
             "#e6f5d0"
            ],
            [
             0.7,
             "#b8e186"
            ],
            [
             0.8,
             "#7fbc41"
            ],
            [
             0.9,
             "#4d9221"
            ],
            [
             1,
             "#276419"
            ]
           ],
           "sequential": [
            [
             0,
             "#0d0887"
            ],
            [
             0.1111111111111111,
             "#46039f"
            ],
            [
             0.2222222222222222,
             "#7201a8"
            ],
            [
             0.3333333333333333,
             "#9c179e"
            ],
            [
             0.4444444444444444,
             "#bd3786"
            ],
            [
             0.5555555555555556,
             "#d8576b"
            ],
            [
             0.6666666666666666,
             "#ed7953"
            ],
            [
             0.7777777777777778,
             "#fb9f3a"
            ],
            [
             0.8888888888888888,
             "#fdca26"
            ],
            [
             1,
             "#f0f921"
            ]
           ],
           "sequentialminus": [
            [
             0,
             "#0d0887"
            ],
            [
             0.1111111111111111,
             "#46039f"
            ],
            [
             0.2222222222222222,
             "#7201a8"
            ],
            [
             0.3333333333333333,
             "#9c179e"
            ],
            [
             0.4444444444444444,
             "#bd3786"
            ],
            [
             0.5555555555555556,
             "#d8576b"
            ],
            [
             0.6666666666666666,
             "#ed7953"
            ],
            [
             0.7777777777777778,
             "#fb9f3a"
            ],
            [
             0.8888888888888888,
             "#fdca26"
            ],
            [
             1,
             "#f0f921"
            ]
           ]
          },
          "colorway": [
           "#636efa",
           "#EF553B",
           "#00cc96",
           "#ab63fa",
           "#FFA15A",
           "#19d3f3",
           "#FF6692",
           "#B6E880",
           "#FF97FF",
           "#FECB52"
          ],
          "font": {
           "color": "#2a3f5f"
          },
          "geo": {
           "bgcolor": "white",
           "lakecolor": "white",
           "landcolor": "#E5ECF6",
           "showlakes": true,
           "showland": true,
           "subunitcolor": "white"
          },
          "hoverlabel": {
           "align": "left"
          },
          "hovermode": "closest",
          "mapbox": {
           "style": "light"
          },
          "paper_bgcolor": "white",
          "plot_bgcolor": "#E5ECF6",
          "polar": {
           "angularaxis": {
            "gridcolor": "white",
            "linecolor": "white",
            "ticks": ""
           },
           "bgcolor": "#E5ECF6",
           "radialaxis": {
            "gridcolor": "white",
            "linecolor": "white",
            "ticks": ""
           }
          },
          "scene": {
           "xaxis": {
            "backgroundcolor": "#E5ECF6",
            "gridcolor": "white",
            "gridwidth": 2,
            "linecolor": "white",
            "showbackground": true,
            "ticks": "",
            "zerolinecolor": "white"
           },
           "yaxis": {
            "backgroundcolor": "#E5ECF6",
            "gridcolor": "white",
            "gridwidth": 2,
            "linecolor": "white",
            "showbackground": true,
            "ticks": "",
            "zerolinecolor": "white"
           },
           "zaxis": {
            "backgroundcolor": "#E5ECF6",
            "gridcolor": "white",
            "gridwidth": 2,
            "linecolor": "white",
            "showbackground": true,
            "ticks": "",
            "zerolinecolor": "white"
           }
          },
          "shapedefaults": {
           "line": {
            "color": "#2a3f5f"
           }
          },
          "ternary": {
           "aaxis": {
            "gridcolor": "white",
            "linecolor": "white",
            "ticks": ""
           },
           "baxis": {
            "gridcolor": "white",
            "linecolor": "white",
            "ticks": ""
           },
           "bgcolor": "#E5ECF6",
           "caxis": {
            "gridcolor": "white",
            "linecolor": "white",
            "ticks": ""
           }
          },
          "title": {
           "x": 0.05
          },
          "xaxis": {
           "automargin": true,
           "gridcolor": "white",
           "linecolor": "white",
           "ticks": "",
           "title": {
            "standoff": 15
           },
           "zerolinecolor": "white",
           "zerolinewidth": 2
          },
          "yaxis": {
           "automargin": true,
           "gridcolor": "white",
           "linecolor": "white",
           "ticks": "",
           "title": {
            "standoff": 15
           },
           "zerolinecolor": "white",
           "zerolinewidth": 2
          }
         }
        },
        "title": {
         "text": "min model loss data"
        },
        "xaxis": {
         "anchor": "y",
         "domain": [
          0,
          1
         ],
         "range": [
          1,
          30
         ]
        },
        "yaxis": {
         "anchor": "x",
         "domain": [
          0,
          1
         ]
        }
       }
      }
     },
     "metadata": {},
     "output_type": "display_data"
    }
   ],
   "source": [
    "category_names = ['guide', 'light', 'interior', 'story', 'probability', 'creativity', 'production', 'activity', 'scale', 'fear', 'device', 'fun', 'service']\n",
    "for category in category_names:\n",
    "    globals()[category] = get_log(category, '2')\n",
    "\n",
    "category_names = ['guide', 'light', 'interior', 'story', 'probability', 'creativity', 'production', 'activity', 'scale', 'fear', 'device', 'fun', 'service']\n",
    "categories = [guide, light, interior, story, probability, creativity, production, activity, scale, fear, device, fun, service]\n",
    "\n",
    "category_dic = {key:value for key, value in zip(category_names, categories)}\n",
    "\n",
    "fig = make_subplots(rows=1, cols=1, shared_xaxes=True)\n",
    "\n",
    "for key, value in category_dic.items():\n",
    "    fig.add_trace(go.Scatter(x=value[value.keys()[0]], y=value[value.keys()[2]], mode='lines', name=key, line=dict(width=1.5)))\n",
    "\n",
    "# y 축의 범위 설정\n",
    "fig.update_xaxes(range=[1, 30])  # 원하는 범위로 설정\n",
    "\n",
    "fig.update_layout(title='min model loss data', height=1000)\n",
    "fig.show()"
   ]
  }
 ],
 "metadata": {
  "kernelspec": {
   "display_name": "Bang",
   "language": "python",
   "name": "python3"
  },
  "language_info": {
   "codemirror_mode": {
    "name": "ipython",
    "version": 3
   },
   "file_extension": ".py",
   "mimetype": "text/x-python",
   "name": "python",
   "nbconvert_exporter": "python",
   "pygments_lexer": "ipython3",
   "version": "3.11.0"
  }
 },
 "nbformat": 4,
 "nbformat_minor": 2
}
